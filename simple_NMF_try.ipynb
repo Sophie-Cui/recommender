{
 "cells": [
  {
   "cell_type": "code",
   "execution_count": 59,
   "metadata": {
    "_uuid": "4a22546701d1da398f56777b76d05d16019c9de1",
    "colab": {
     "base_uri": "https://localhost:8080/",
     "height": 34
    },
    "colab_type": "code",
    "id": "iMWFKdLCTCqV",
    "outputId": "93f6e85d-0097-4d55-efc8-58eb39d49f1b"
   },
   "outputs": [],
   "source": [
    "# Ignore  the warnings\n",
    "import warnings\n",
    "warnings.filterwarnings('always')\n",
    "warnings.filterwarnings('ignore')\n",
    "\n",
    "# data visualisation and manipulation\n",
    "import numpy as np\n",
    "import pandas as pd\n",
    "import matplotlib.pyplot as plt\n",
    "from matplotlib import style\n",
    "import seaborn as sns\n",
    " \n",
    "#configure\n",
    "# sets matplotlib to inline and displays graphs below the corressponding cell.\n",
    "%matplotlib inline  \n",
    "style.use('fivethirtyeight')\n",
    "sns.set(style='whitegrid',color_codes=True)\n",
    "\n",
    "#model selection\n",
    "from sklearn.model_selection import train_test_split\n",
    "from sklearn.model_selection import KFold\n",
    "from sklearn.metrics import accuracy_score,precision_score,recall_score,confusion_matrix,roc_curve,roc_auc_score\n",
    "from sklearn.metrics import mean_absolute_error\n",
    "from sklearn.model_selection import GridSearchCV\n",
    "from sklearn.preprocessing import LabelEncoder\n",
    "\n",
    "#preprocess.\n",
    "from keras.preprocessing.image import ImageDataGenerator\n",
    "\n",
    "#dl libraraies\n",
    "import keras\n",
    "from keras import backend as K\n",
    "from keras.models import Sequential\n",
    "from keras.layers import Dense , merge\n",
    "from keras.optimizers import Adam,SGD,Adagrad,Adadelta,RMSprop\n",
    "from keras.utils import to_categorical\n",
    "from keras.utils.vis_utils import model_to_dot\n",
    "from keras.callbacks import ReduceLROnPlateau\n",
    "\n",
    "\n",
    "from keras.layers.merge import dot\n",
    "from keras.models import Model\n",
    "\n",
    "\n",
    "# specifically for deeplearning.\n",
    "from keras.layers import Dropout, Flatten,Activation,Input,Embedding\n",
    "from keras.layers import Conv2D, MaxPooling2D, BatchNormalization\n",
    "import tensorflow as tf\n",
    "import random as rn\n",
    "from IPython.display import SVG\n",
    " \n",
    "# specifically for manipulating zipped images and getting numpy arrays of pixel values of images.\n",
    "# import cv2                  \n",
    "import numpy as np  \n",
    "from tqdm import tqdm\n",
    "import os                   \n",
    "from random import shuffle  \n",
    "from zipfile import ZipFile\n",
    "# from PIL import Image\n",
    "\n",
    "\n",
    "#TL pecific modules\n",
    "from keras.applications.vgg16 import VGG16"
   ]
  },
  {
   "cell_type": "code",
   "execution_count": 60,
   "metadata": {
    "_uuid": "cdffcbd1e08b9f19980c474f8a2e8806f04b7fce",
    "colab": {},
    "colab_type": "code",
    "id": "rj6yZYbwTCqw"
   },
   "outputs": [
    {
     "data": {
      "text/html": [
       "<div>\n",
       "<style scoped>\n",
       "    .dataframe tbody tr th:only-of-type {\n",
       "        vertical-align: middle;\n",
       "    }\n",
       "\n",
       "    .dataframe tbody tr th {\n",
       "        vertical-align: top;\n",
       "    }\n",
       "\n",
       "    .dataframe thead th {\n",
       "        text-align: right;\n",
       "    }\n",
       "</style>\n",
       "<table border=\"1\" class=\"dataframe\">\n",
       "  <thead>\n",
       "    <tr style=\"text-align: right;\">\n",
       "      <th></th>\n",
       "      <th>user_id</th>\n",
       "      <th>movie_id</th>\n",
       "      <th>rating</th>\n",
       "      <th>unix_timestamp</th>\n",
       "    </tr>\n",
       "  </thead>\n",
       "  <tbody>\n",
       "    <tr>\n",
       "      <th>0</th>\n",
       "      <td>196</td>\n",
       "      <td>242</td>\n",
       "      <td>3</td>\n",
       "      <td>881250949</td>\n",
       "    </tr>\n",
       "    <tr>\n",
       "      <th>1</th>\n",
       "      <td>186</td>\n",
       "      <td>302</td>\n",
       "      <td>3</td>\n",
       "      <td>891717742</td>\n",
       "    </tr>\n",
       "    <tr>\n",
       "      <th>2</th>\n",
       "      <td>22</td>\n",
       "      <td>377</td>\n",
       "      <td>1</td>\n",
       "      <td>878887116</td>\n",
       "    </tr>\n",
       "    <tr>\n",
       "      <th>3</th>\n",
       "      <td>244</td>\n",
       "      <td>51</td>\n",
       "      <td>2</td>\n",
       "      <td>880606923</td>\n",
       "    </tr>\n",
       "    <tr>\n",
       "      <th>4</th>\n",
       "      <td>166</td>\n",
       "      <td>346</td>\n",
       "      <td>1</td>\n",
       "      <td>886397596</td>\n",
       "    </tr>\n",
       "  </tbody>\n",
       "</table>\n",
       "</div>"
      ],
      "text/plain": [
       "   user_id  movie_id  rating  unix_timestamp\n",
       "0      196       242       3       881250949\n",
       "1      186       302       3       891717742\n",
       "2       22       377       1       878887116\n",
       "3      244        51       2       880606923\n",
       "4      166       346       1       886397596"
      ]
     },
     "execution_count": 60,
     "metadata": {},
     "output_type": "execute_result"
    }
   ],
   "source": [
    "ratings_cols = ['user_id', 'movie_id', 'rating', 'unix_timestamp']\n",
    "train = pd.read_csv('ml-100k/u.data', sep='\\t', names=ratings_cols, encoding = 'latin-1')\n",
    "train.head()"
   ]
  },
  {
   "cell_type": "code",
   "execution_count": 61,
   "metadata": {},
   "outputs": [
    {
     "data": {
      "text/html": [
       "<div>\n",
       "<style scoped>\n",
       "    .dataframe tbody tr th:only-of-type {\n",
       "        vertical-align: middle;\n",
       "    }\n",
       "\n",
       "    .dataframe tbody tr th {\n",
       "        vertical-align: top;\n",
       "    }\n",
       "\n",
       "    .dataframe thead th {\n",
       "        text-align: right;\n",
       "    }\n",
       "</style>\n",
       "<table border=\"1\" class=\"dataframe\">\n",
       "  <thead>\n",
       "    <tr style=\"text-align: right;\">\n",
       "      <th></th>\n",
       "      <th>user_id</th>\n",
       "      <th>movie_id</th>\n",
       "      <th>rating</th>\n",
       "      <th>unix_timestamp</th>\n",
       "    </tr>\n",
       "  </thead>\n",
       "  <tbody>\n",
       "    <tr>\n",
       "      <th>0</th>\n",
       "      <td>196</td>\n",
       "      <td>242</td>\n",
       "      <td>3</td>\n",
       "      <td>881250949</td>\n",
       "    </tr>\n",
       "    <tr>\n",
       "      <th>1</th>\n",
       "      <td>186</td>\n",
       "      <td>302</td>\n",
       "      <td>3</td>\n",
       "      <td>891717742</td>\n",
       "    </tr>\n",
       "    <tr>\n",
       "      <th>2</th>\n",
       "      <td>22</td>\n",
       "      <td>377</td>\n",
       "      <td>1</td>\n",
       "      <td>878887116</td>\n",
       "    </tr>\n",
       "    <tr>\n",
       "      <th>3</th>\n",
       "      <td>244</td>\n",
       "      <td>51</td>\n",
       "      <td>2</td>\n",
       "      <td>880606923</td>\n",
       "    </tr>\n",
       "    <tr>\n",
       "      <th>4</th>\n",
       "      <td>166</td>\n",
       "      <td>346</td>\n",
       "      <td>1</td>\n",
       "      <td>886397596</td>\n",
       "    </tr>\n",
       "  </tbody>\n",
       "</table>\n",
       "</div>"
      ],
      "text/plain": [
       "   user_id  movie_id  rating  unix_timestamp\n",
       "0      196       242       3       881250949\n",
       "1      186       302       3       891717742\n",
       "2       22       377       1       878887116\n",
       "3      244        51       2       880606923\n",
       "4      166       346       1       886397596"
      ]
     },
     "execution_count": 61,
     "metadata": {},
     "output_type": "execute_result"
    }
   ],
   "source": [
    "train.head()"
   ]
  },
  {
   "cell_type": "code",
   "execution_count": 62,
   "metadata": {
    "_uuid": "cab159203af83db728cff56cea2f8550ff8be3bf",
    "colab": {},
    "colab_type": "code",
    "id": "0Ql8-N-yTCq5"
   },
   "outputs": [],
   "source": [
    "df=train.copy()"
   ]
  },
  {
   "cell_type": "code",
   "execution_count": 63,
   "metadata": {
    "_uuid": "a8ce29d2e87462b2186caf0cd133195009a32424",
    "colab": {
     "base_uri": "https://localhost:8080/",
     "height": 204
    },
    "colab_type": "code",
    "id": "Z84EQQxHTCq-",
    "outputId": "04634c66-2f3f-4a90-c9d5-3e8339b815fd"
   },
   "outputs": [
    {
     "data": {
      "text/html": [
       "<div>\n",
       "<style scoped>\n",
       "    .dataframe tbody tr th:only-of-type {\n",
       "        vertical-align: middle;\n",
       "    }\n",
       "\n",
       "    .dataframe tbody tr th {\n",
       "        vertical-align: top;\n",
       "    }\n",
       "\n",
       "    .dataframe thead th {\n",
       "        text-align: right;\n",
       "    }\n",
       "</style>\n",
       "<table border=\"1\" class=\"dataframe\">\n",
       "  <thead>\n",
       "    <tr style=\"text-align: right;\">\n",
       "      <th></th>\n",
       "      <th>user_id</th>\n",
       "      <th>movie_id</th>\n",
       "      <th>rating</th>\n",
       "      <th>unix_timestamp</th>\n",
       "    </tr>\n",
       "  </thead>\n",
       "  <tbody>\n",
       "    <tr>\n",
       "      <th>0</th>\n",
       "      <td>196</td>\n",
       "      <td>242</td>\n",
       "      <td>3</td>\n",
       "      <td>881250949</td>\n",
       "    </tr>\n",
       "    <tr>\n",
       "      <th>1</th>\n",
       "      <td>186</td>\n",
       "      <td>302</td>\n",
       "      <td>3</td>\n",
       "      <td>891717742</td>\n",
       "    </tr>\n",
       "    <tr>\n",
       "      <th>2</th>\n",
       "      <td>22</td>\n",
       "      <td>377</td>\n",
       "      <td>1</td>\n",
       "      <td>878887116</td>\n",
       "    </tr>\n",
       "    <tr>\n",
       "      <th>3</th>\n",
       "      <td>244</td>\n",
       "      <td>51</td>\n",
       "      <td>2</td>\n",
       "      <td>880606923</td>\n",
       "    </tr>\n",
       "    <tr>\n",
       "      <th>4</th>\n",
       "      <td>166</td>\n",
       "      <td>346</td>\n",
       "      <td>1</td>\n",
       "      <td>886397596</td>\n",
       "    </tr>\n",
       "  </tbody>\n",
       "</table>\n",
       "</div>"
      ],
      "text/plain": [
       "   user_id  movie_id  rating  unix_timestamp\n",
       "0      196       242       3       881250949\n",
       "1      186       302       3       891717742\n",
       "2       22       377       1       878887116\n",
       "3      244        51       2       880606923\n",
       "4      166       346       1       886397596"
      ]
     },
     "execution_count": 63,
     "metadata": {},
     "output_type": "execute_result"
    }
   ],
   "source": [
    "df.head()"
   ]
  },
  {
   "cell_type": "code",
   "execution_count": 73,
   "metadata": {
    "_uuid": "457635917730f14c35325b582f1da4714d4c06a3",
    "colab": {},
    "colab_type": "code",
    "id": "CZRcucwTTCr2"
   },
   "outputs": [],
   "source": [
    "df.user_id = df.user_id.astype('category').cat.codes.values\n",
    "df.movie_id = df.movie_id.astype('category').cat.codes.values"
   ]
  },
  {
   "cell_type": "code",
   "execution_count": 74,
   "metadata": {
    "_uuid": "bca399a0c31bc8cb13a27cb576ee02a2651a3c35",
    "colab": {
     "base_uri": "https://localhost:8080/",
     "height": 1071
    },
    "colab_type": "code",
    "id": "KyjATogpTCr5",
    "outputId": "9e61e561-dec4-43ac-8ace-c58ca20f50d6",
    "scrolled": true
   },
   "outputs": [
    {
     "data": {
      "text/plain": [
       "925     20\n",
       "684     20\n",
       "165     20\n",
       "739     20\n",
       "35      20\n",
       "887     20\n",
       "823     20\n",
       "865     20\n",
       "557     20\n",
       "417     20\n",
       "33      20\n",
       "630     20\n",
       "18      20\n",
       "142     20\n",
       "894     20\n",
       "92      20\n",
       "731     20\n",
       "474     20\n",
       "201     20\n",
       "308     20\n",
       "571     20\n",
       "635     20\n",
       "241     20\n",
       "595     20\n",
       "440     20\n",
       "570     20\n",
       "146     20\n",
       "872     20\n",
       "808     20\n",
       "299     20\n",
       "      ... \n",
       "795    358\n",
       "591    360\n",
       "895    362\n",
       "416    365\n",
       "879    368\n",
       "377    375\n",
       "434    379\n",
       "58     382\n",
       "200    386\n",
       "221    387\n",
       "292    388\n",
       "91     388\n",
       "307    397\n",
       "681    399\n",
       "93     400\n",
       "6      403\n",
       "845    405\n",
       "428    414\n",
       "278    434\n",
       "180    435\n",
       "392    448\n",
       "233    480\n",
       "302    484\n",
       "536    490\n",
       "415    493\n",
       "275    518\n",
       "449    540\n",
       "12     636\n",
       "654    685\n",
       "404    737\n",
       "Name: user_id, Length: 943, dtype: int64"
      ]
     },
     "execution_count": 74,
     "metadata": {},
     "output_type": "execute_result"
    }
   ],
   "source": [
    "df['user_id'].value_counts(ascending=True)"
   ]
  },
  {
   "cell_type": "code",
   "execution_count": 76,
   "metadata": {
    "_uuid": "9b7396628ea744c2143027464f00999e6da2abd1",
    "colab": {},
    "colab_type": "code",
    "id": "F8w_nb0KTCsA"
   },
   "outputs": [],
   "source": [
    "# creating utility matrix.\n",
    "index=list(df['user_id'].unique())\n",
    "columns=list(df['movie_id'].unique())\n",
    "index=sorted(index)\n",
    "columns=sorted(columns)\n",
    " \n",
    "util_df=pd.pivot_table(data=df,values='rating',index='user_id',columns='movie_id')\n",
    "# Nan implies that user has not rated the corressponding movie."
   ]
  },
  {
   "cell_type": "markdown",
   "metadata": {
    "_uuid": "59e0d1ee2a81a48276bf8ab0449f83bacc973766",
    "colab_type": "text",
    "id": "1a7P2bWBTCsC"
   },
   "source": []
  },
  {
   "cell_type": "code",
   "execution_count": 79,
   "metadata": {
    "_uuid": "fb5b6c2b38c7defd38342f496ff50cdce11a9cc2",
    "colab": {},
    "colab_type": "code",
    "id": "9hFax65dTCsM"
   },
   "outputs": [],
   "source": [
    "# x_train,x_test,y_train,y_test=train_test_split(df[['userId','movieId']],df[['rating']],test_size=0.20,random_state=42)\n",
    "users = df.user_id.unique()\n",
    "movies = df.movie_id.unique()\n",
    "\n",
    "userid2idx = {o:i for i,o in enumerate(users)}\n",
    "movieid2idx = {o:i for i,o in enumerate(movies)}"
   ]
  },
  {
   "cell_type": "code",
   "execution_count": 80,
   "metadata": {
    "_uuid": "72eaa638ac27d25f261c5ded81342a4d1d64cfeb",
    "colab": {
     "base_uri": "https://localhost:8080/",
     "height": 34
    },
    "colab_type": "code",
    "id": "3YwbLICDZbxG",
    "outputId": "2552e709-9a6b-46ed-963b-80953f0c04ed"
   },
   "outputs": [
    {
     "name": "stdout",
     "output_type": "stream",
     "text": [
      "(80065, 4) (19935, 4)\n"
     ]
    }
   ],
   "source": [
    "df['user_id'] = df['user_id'].apply(lambda x: userid2idx[x])\n",
    "df['movie_id'] = df['movie_id'].apply(lambda x: movieid2idx[x])\n",
    "split = np.random.rand(len(df)) < 0.8\n",
    "train = df[split]\n",
    "valid = df[~split]\n"
   ]
  },
  {
   "cell_type": "code",
   "execution_count": 81,
   "metadata": {
    "_uuid": "d69c0ad1d764ed22b38a213ad971b07096ba63a8",
    "colab": {},
    "colab_type": "code",
    "id": "_QCGpnOGTCsV"
   },
   "outputs": [],
   "source": [
    "n_movies=len(df['movie_id'].unique())\n",
    "n_users=len(df['user_id'].unique())\n",
    "n_latent_factors=64  # hyperparamter to deal with. "
   ]
  },
  {
   "cell_type": "code",
   "execution_count": 83,
   "metadata": {
    "_uuid": "1c064792339dc9e289843ffcb48724397cc9d364",
    "colab": {},
    "colab_type": "code",
    "id": "CLk9mGUrTCsZ"
   },
   "outputs": [],
   "source": [
    "user_input=Input(shape=(1,),name='user_input',dtype='int64')"
   ]
  },
  {
   "cell_type": "code",
   "execution_count": 85,
   "metadata": {
    "_uuid": "710a9a811a6e6f6d949eec49ffe03fa2ddea2d6f",
    "colab": {},
    "colab_type": "code",
    "id": "QhddcCTdTCsb"
   },
   "outputs": [],
   "source": [
    "user_embedding=Embedding(n_users,n_latent_factors,name='user_embedding')(user_input)\n",
    "#user_embedding.shape"
   ]
  },
  {
   "cell_type": "code",
   "execution_count": 86,
   "metadata": {
    "_uuid": "ba2c543e8b2ab4c32ce4d8fb98e723ea7cfa2cf8",
    "colab": {},
    "colab_type": "code",
    "id": "n9KjFKa0TCsd"
   },
   "outputs": [],
   "source": [
    "user_vec =Flatten(name='FlattenUsers')(user_embedding)\n",
    "#user_vec.shape"
   ]
  },
  {
   "cell_type": "code",
   "execution_count": 88,
   "metadata": {
    "_uuid": "aa1414391efb878547d078f829c42886f80a4712",
    "colab": {},
    "colab_type": "code",
    "id": "-qw9u7LaTCsg"
   },
   "outputs": [],
   "source": [
    "movie_input=Input(shape=(1,),name='movie_input',dtype='int64')\n",
    "movie_embedding=Embedding(n_movies,n_latent_factors,name='movie_embedding')(movie_input)\n",
    "movie_vec=Flatten(name='FlattenMovies')(movie_embedding)\n",
    "#movie_vec"
   ]
  },
  {
   "cell_type": "code",
   "execution_count": 89,
   "metadata": {
    "_uuid": "fb25eb344710e1d48582daba327a65cde754e01f",
    "colab": {
     "base_uri": "https://localhost:8080/",
     "height": 391
    },
    "colab_type": "code",
    "id": "xehk1s7dTCsl",
    "outputId": "1f0ec005-e7ab-444d-f816-e8b815836a8b"
   },
   "outputs": [],
   "source": [
    "sim=dot([user_vec,movie_vec],name='Simalarity-Dot-Product',axes=1)\n",
    "model =keras.models.Model([user_input, movie_input],sim)\n",
    "# #model.summary()\n",
    "# # A summary of the model is shown below-->"
   ]
  },
  {
   "cell_type": "code",
   "execution_count": 90,
   "metadata": {
    "_uuid": "f62fdc456309d53b5698505f6539c4966f165436",
    "colab": {},
    "colab_type": "code",
    "id": "cAQIaq3vTCso"
   },
   "outputs": [],
   "source": [
    "model.compile(optimizer=Adam(lr=1e-4),loss='mse')"
   ]
  },
  {
   "cell_type": "markdown",
   "metadata": {
    "_uuid": "47e093c8e79ffb0de26b6c277be5e6311e5cbcef"
   },
   "source": [
    "Note that the metrics used is 'Mean squared Error'. Our aim is to minimize the mse on the training set ie over the values which the user has rated (100004 ratings)."
   ]
  },
  {
   "cell_type": "code",
   "execution_count": 91,
   "metadata": {
    "_uuid": "29ae883590f60114f0bf38d32f2d16b517ba4eb4",
    "colab": {},
    "colab_type": "code",
    "id": "jZl3y3rhTCsr"
   },
   "outputs": [],
   "source": [
    "train.shape\n",
    "batch_size=128\n",
    "epochs=50"
   ]
  },
  {
   "cell_type": "code",
   "execution_count": 92,
   "metadata": {
    "_uuid": "1b1d990d18b841019dc0e336533f355effeb4f9b",
    "colab": {
     "base_uri": "https://localhost:8080/",
     "height": 1734
    },
    "colab_type": "code",
    "id": "W80XIoFYTCsu",
    "outputId": "104f9d01-af20-45ba-8563-21e7d1148e9b"
   },
   "outputs": [
    {
     "name": "stdout",
     "output_type": "stream",
     "text": [
      "Train on 80065 samples, validate on 19935 samples\n",
      "Epoch 1/50\n",
      "80065/80065 [==============================] - 1s 16us/step - loss: 13.7232 - val_loss: 13.7395\n",
      "Epoch 2/50\n",
      "80065/80065 [==============================] - 1s 15us/step - loss: 13.7109 - val_loss: 13.7270\n",
      "Epoch 3/50\n",
      "80065/80065 [==============================] - 1s 15us/step - loss: 13.6689 - val_loss: 13.6550\n",
      "Epoch 4/50\n",
      "80065/80065 [==============================] - 1s 14us/step - loss: 13.4993 - val_loss: 13.3627\n",
      "Epoch 5/50\n",
      "80065/80065 [==============================] - 1s 13us/step - loss: 12.9808 - val_loss: 12.5939\n",
      "Epoch 6/50\n",
      "80065/80065 [==============================] - 1s 14us/step - loss: 11.9130 - val_loss: 11.2502\n",
      "Epoch 7/50\n",
      "80065/80065 [==============================] - 1s 14us/step - loss: 10.3377 - val_loss: 9.4990\n",
      "Epoch 8/50\n",
      "80065/80065 [==============================] - 1s 13us/step - loss: 8.4930 - val_loss: 7.6224\n",
      "Epoch 9/50\n",
      "80065/80065 [==============================] - 1s 14us/step - loss: 6.6612 - val_loss: 5.8848\n",
      "Epoch 10/50\n",
      "80065/80065 [==============================] - 1s 13us/step - loss: 5.0728 - val_loss: 4.4719\n",
      "Epoch 11/50\n",
      "80065/80065 [==============================] - 1s 14us/step - loss: 3.8556 - val_loss: 3.4514\n",
      "Epoch 12/50\n",
      "80065/80065 [==============================] - 1s 14us/step - loss: 3.0121 - val_loss: 2.7699\n",
      "Epoch 13/50\n",
      "80065/80065 [==============================] - 1s 14us/step - loss: 2.4551 - val_loss: 2.3204\n",
      "Epoch 14/50\n",
      "80065/80065 [==============================] - 1s 14us/step - loss: 2.0802 - val_loss: 2.0094\n",
      "Epoch 15/50\n",
      "80065/80065 [==============================] - 2s 21us/step - loss: 1.8142 - val_loss: 1.7832\n",
      "Epoch 16/50\n",
      "80065/80065 [==============================] - 2s 23us/step - loss: 1.6165 - val_loss: 1.6117\n",
      "Epoch 17/50\n",
      "80065/80065 [==============================] - 1s 14us/step - loss: 1.4652 - val_loss: 1.4786\n",
      "Epoch 18/50\n",
      "80065/80065 [==============================] - 1s 14us/step - loss: 1.3471 - val_loss: 1.3743\n",
      "Epoch 19/50\n",
      "80065/80065 [==============================] - 1s 15us/step - loss: 1.2539 - val_loss: 1.2916\n",
      "Epoch 20/50\n",
      "80065/80065 [==============================] - 1s 16us/step - loss: 1.1796 - val_loss: 1.2253\n",
      "Epoch 21/50\n",
      "80065/80065 [==============================] - 1s 14us/step - loss: 1.1198 - val_loss: 1.1718\n",
      "Epoch 22/50\n",
      "80065/80065 [==============================] - 1s 12us/step - loss: 1.0714 - val_loss: 1.1282\n",
      "Epoch 23/50\n",
      "80065/80065 [==============================] - 1s 13us/step - loss: 1.0317 - val_loss: 1.0926\n",
      "Epoch 24/50\n",
      "80065/80065 [==============================] - 1s 14us/step - loss: 0.9990 - val_loss: 1.0634\n",
      "Epoch 25/50\n",
      "80065/80065 [==============================] - 1s 15us/step - loss: 0.9719 - val_loss: 1.0393\n",
      "Epoch 26/50\n",
      "80065/80065 [==============================] - 1s 13us/step - loss: 0.9492 - val_loss: 1.0191\n",
      "Epoch 27/50\n",
      "80065/80065 [==============================] - 1s 12us/step - loss: 0.9302 - val_loss: 1.0022\n",
      "Epoch 28/50\n",
      "80065/80065 [==============================] - 1s 15us/step - loss: 0.9140 - val_loss: 0.9879\n",
      "Epoch 29/50\n",
      "80065/80065 [==============================] - 1s 14us/step - loss: 0.9002 - val_loss: 0.9759\n",
      "Epoch 30/50\n",
      "80065/80065 [==============================] - 1s 16us/step - loss: 0.8882 - val_loss: 0.9658\n",
      "Epoch 31/50\n",
      "80065/80065 [==============================] - 1s 14us/step - loss: 0.8778 - val_loss: 0.9567\n",
      "Epoch 32/50\n",
      "80065/80065 [==============================] - 1s 14us/step - loss: 0.8687 - val_loss: 0.9490\n",
      "Epoch 33/50\n",
      "80065/80065 [==============================] - 1s 14us/step - loss: 0.8607 - val_loss: 0.9423\n",
      "Epoch 34/50\n",
      "80065/80065 [==============================] - 1s 13us/step - loss: 0.8534 - val_loss: 0.9366\n",
      "Epoch 35/50\n",
      "80065/80065 [==============================] - 1s 13us/step - loss: 0.8469 - val_loss: 0.9314\n",
      "Epoch 36/50\n",
      "80065/80065 [==============================] - 1s 13us/step - loss: 0.8410 - val_loss: 0.9267\n",
      "Epoch 37/50\n",
      "80065/80065 [==============================] - 1s 13us/step - loss: 0.8355 - val_loss: 0.9225\n",
      "Epoch 38/50\n",
      "80065/80065 [==============================] - 1s 14us/step - loss: 0.8305 - val_loss: 0.9187\n",
      "Epoch 39/50\n",
      "80065/80065 [==============================] - 1s 13us/step - loss: 0.8258 - val_loss: 0.9152\n",
      "Epoch 40/50\n",
      "80065/80065 [==============================] - 1s 13us/step - loss: 0.8214 - val_loss: 0.9120\n",
      "Epoch 41/50\n",
      "80065/80065 [==============================] - 1s 15us/step - loss: 0.8172 - val_loss: 0.9092\n",
      "Epoch 42/50\n",
      "80065/80065 [==============================] - 1s 14us/step - loss: 0.8132 - val_loss: 0.9065\n",
      "Epoch 43/50\n",
      "80065/80065 [==============================] - 1s 13us/step - loss: 0.8094 - val_loss: 0.9038\n",
      "Epoch 44/50\n",
      "80065/80065 [==============================] - 1s 13us/step - loss: 0.8058 - val_loss: 0.9014\n",
      "Epoch 45/50\n",
      "80065/80065 [==============================] - 1s 14us/step - loss: 0.8023 - val_loss: 0.8992\n",
      "Epoch 46/50\n",
      "80065/80065 [==============================] - 1s 14us/step - loss: 0.7988 - val_loss: 0.8972\n",
      "Epoch 47/50\n",
      "80065/80065 [==============================] - 1s 14us/step - loss: 0.7955 - val_loss: 0.8952\n",
      "Epoch 48/50\n",
      "80065/80065 [==============================] - 1s 13us/step - loss: 0.7923 - val_loss: 0.8934\n",
      "Epoch 49/50\n",
      "80065/80065 [==============================] - 1s 13us/step - loss: 0.7890 - val_loss: 0.8914\n",
      "Epoch 50/50\n",
      "80065/80065 [==============================] - 1s 13us/step - loss: 0.7859 - val_loss: 0.8899\n"
     ]
    }
   ],
   "source": [
    "History = model.fit([train.user_id,train.movie_id],train.rating, batch_size=batch_size,\n",
    "                              epochs =epochs, validation_data = ([valid.user_id,valid.movie_id],valid.rating),\n",
    "                              verbose = 1)"
   ]
  },
  {
   "cell_type": "code",
   "execution_count": 93,
   "metadata": {
    "_uuid": "991ed9056e6ca6d7c357229fa53b29e5822dda96",
    "colab": {
     "base_uri": "https://localhost:8080/",
     "height": 369
    },
    "colab_type": "code",
    "id": "ScV6BGutTCsx",
    "outputId": "bea24d35-00b0-4ef3-c7c2-e366b8f3908c"
   },
   "outputs": [
    {
     "data": {
      "image/png": "[encoded data removed]",
      "text/plain": [
       "<Figure size 720x360 with 1 Axes>"
      ]
     },
     "metadata": {},
     "output_type": "display_data"
    }
   ],
   "source": [
    "from pylab import rcParams\n",
    "rcParams['figure.figsize'] = 10, 5\n",
    "import matplotlib.pyplot as plt\n",
    "plt.plot(History.history['loss'] , 'g')\n",
    "plt.plot(History.history['val_loss'] , 'b')\n",
    "plt.title('model loss')\n",
    "plt.ylabel('loss')\n",
    "plt.xlabel('epoch')\n",
    "plt.legend(['train', 'test'], loc='upper left')\n",
    "plt.grid(True)\n",
    "plt.show()"
   ]
  },
  {
   "cell_type": "code",
   "execution_count": null,
   "metadata": {
    "_uuid": "f140f850cc232b48b2ae5a9b01311432cacc3efc"
   },
   "outputs": [],
   "source": []
  },
  {
   "cell_type": "code",
   "execution_count": 110,
   "metadata": {
    "_uuid": "f3ab147a882f2421985b4c841d0c274eabb118c5",
    "colab": {},
    "colab_type": "code",
    "id": "ve1yCvhv2qGG"
   },
   "outputs": [],
   "source": [
    "n_latent_factors=50\n",
    "n_movies=len(df['movie_id'].unique())\n",
    "n_users=len(df['user_id'].unique())"
   ]
  },
  {
   "cell_type": "code",
   "execution_count": 111,
   "metadata": {
    "_uuid": "6c23fb884f8ceed358580e4d77b31f23071ec457",
    "colab": {},
    "colab_type": "code",
    "id": "U_qzR2y42rtn"
   },
   "outputs": [],
   "source": [
    "user_input=Input(shape=(1,),name='user_input',dtype='int64')\n",
    "user_embedding=Embedding(n_users,n_latent_factors,name='user_embedding')(user_input)\n",
    "user_vec=Flatten(name='FlattenUsers')(user_embedding)\n",
    "user_vec=Dropout(0.40)(user_vec)"
   ]
  },
  {
   "cell_type": "code",
   "execution_count": 112,
   "metadata": {
    "_uuid": "1b4a46e9251c5c6944fcb5a931ca884739a69bab",
    "colab": {},
    "colab_type": "code",
    "id": "OHHFjQFK2qR3"
   },
   "outputs": [],
   "source": [
    "movie_input=Input(shape=(1,),name='movie_input',dtype='int64')\n",
    "movie_embedding=Embedding(n_movies,n_latent_factors,name='movie_embedding')(movie_input)\n",
    "movie_vec=Flatten(name='FlattenMovies')(movie_embedding)\n",
    "movie_vec=Dropout(0.40)(movie_vec)"
   ]
  },
  {
   "cell_type": "code",
   "execution_count": 113,
   "metadata": {
    "_uuid": "15d1acc299eb4c3a9f884b84058c111196e249a5",
    "colab": {},
    "colab_type": "code",
    "id": "CKJMRFguZHWd"
   },
   "outputs": [],
   "source": [
    "sim=dot([user_vec,movie_vec],name='Simalarity-Dot-Product',axes=1)"
   ]
  },
  {
   "cell_type": "code",
   "execution_count": 114,
   "metadata": {
    "_uuid": "f47e02bcf77be5d563d3f4cbd5e721dd3b7eacbe",
    "colab": {
     "base_uri": "https://localhost:8080/",
     "height": 561
    },
    "colab_type": "code",
    "id": "mw2op22rfaps",
    "outputId": "3dc89842-733b-458d-92be-1e8c256382c2"
   },
   "outputs": [
    {
     "name": "stdout",
     "output_type": "stream",
     "text": [
      "Model: \"model_5\"\n",
      "__________________________________________________________________________________________________\n",
      "Layer (type)                    Output Shape         Param #     Connected to                     \n",
      "==================================================================================================\n",
      "user_input (InputLayer)         (None, 1)            0                                            \n",
      "__________________________________________________________________________________________________\n",
      "movie_input (InputLayer)        (None, 1)            0                                            \n",
      "__________________________________________________________________________________________________\n",
      "user_embedding (Embedding)      (None, 1, 50)        47150       user_input[0][0]                 \n",
      "__________________________________________________________________________________________________\n",
      "movie_embedding (Embedding)     (None, 1, 50)        84100       movie_input[0][0]                \n",
      "__________________________________________________________________________________________________\n",
      "FlattenUsers (Flatten)          (None, 50)           0           user_embedding[0][0]             \n",
      "__________________________________________________________________________________________________\n",
      "FlattenMovies (Flatten)         (None, 50)           0           movie_embedding[0][0]            \n",
      "__________________________________________________________________________________________________\n",
      "dropout_7 (Dropout)             (None, 50)           0           FlattenUsers[0][0]               \n",
      "__________________________________________________________________________________________________\n",
      "dropout_8 (Dropout)             (None, 50)           0           FlattenMovies[0][0]              \n",
      "__________________________________________________________________________________________________\n",
      "Simalarity-Dot-Product (Dot)    (None, 1)            0           dropout_7[0][0]                  \n",
      "                                                                 dropout_8[0][0]                  \n",
      "__________________________________________________________________________________________________\n",
      "dense_5 (Dense)                 (None, 96)           192         Simalarity-Dot-Product[0][0]     \n",
      "__________________________________________________________________________________________________\n",
      "dropout_9 (Dropout)             (None, 96)           0           dense_5[0][0]                    \n",
      "__________________________________________________________________________________________________\n",
      "dense_6 (Dense)                 (None, 1)            97          dropout_9[0][0]                  \n",
      "==================================================================================================\n",
      "Total params: 131,539\n",
      "Trainable params: 131,539\n",
      "Non-trainable params: 0\n",
      "__________________________________________________________________________________________________\n"
     ]
    }
   ],
   "source": [
    "nn_inp=Dense(96,activation='relu')(sim)\n",
    "nn_inp=Dropout(0.4)(nn_inp)\n",
    "# nn_inp=BatchNormalization()(nn_inp)\n",
    "nn_inp=Dense(1,activation='relu')(nn_inp)\n",
    "nn_model =keras.models.Model([user_input, movie_input],nn_inp)\n",
    "nn_model.summary()\n"
   ]
  },
  {
   "cell_type": "code",
   "execution_count": 115,
   "metadata": {
    "_uuid": "5b76389b6e765067a29cafda8943285f291f7cbd",
    "colab": {},
    "colab_type": "code",
    "id": "tvyFq55ChKNA"
   },
   "outputs": [],
   "source": [
    "nn_model.compile(optimizer=Adam(lr=1e-3),loss='mse')"
   ]
  },
  {
   "cell_type": "code",
   "execution_count": 116,
   "metadata": {
    "_uuid": "d966f4318d6dc6382cd55fd220307787a0fa519d",
    "colab": {},
    "colab_type": "code",
    "id": "qhJqzjaLjgHx"
   },
   "outputs": [],
   "source": [
    "batch_size=128\n",
    "epochs=50"
   ]
  },
  {
   "cell_type": "code",
   "execution_count": 117,
   "metadata": {
    "_uuid": "6563733cc271f153e7bf5de03e9bcc6411614a67",
    "colab": {
     "base_uri": "https://localhost:8080/",
     "height": 714
    },
    "colab_type": "code",
    "id": "qyQmex3cjjxx",
    "outputId": "9283b538-6258-441d-9190-370207c8d01d"
   },
   "outputs": [
    {
     "name": "stdout",
     "output_type": "stream",
     "text": [
      "Train on 80065 samples, validate on 19935 samples\n",
      "Epoch 1/50\n",
      "80065/80065 [==============================] - 2s 20us/step - loss: 3.0847 - val_loss: 1.2794\n",
      "Epoch 2/50\n",
      "80065/80065 [==============================] - 1s 16us/step - loss: 1.3078 - val_loss: 1.0830\n",
      "Epoch 3/50\n",
      "80065/80065 [==============================] - 1s 15us/step - loss: 1.0961 - val_loss: 0.9972\n",
      "Epoch 4/50\n",
      "80065/80065 [==============================] - 1s 15us/step - loss: 0.9852 - val_loss: 0.9554\n",
      "Epoch 5/50\n",
      "80065/80065 [==============================] - 1s 14us/step - loss: 0.9323 - val_loss: 0.9371\n",
      "Epoch 6/50\n",
      "80065/80065 [==============================] - 1s 15us/step - loss: 0.8953 - val_loss: 0.9290\n",
      "Epoch 7/50\n",
      "80065/80065 [==============================] - 1s 15us/step - loss: 0.8564 - val_loss: 0.9229\n",
      "Epoch 8/50\n",
      "80065/80065 [==============================] - 1s 17us/step - loss: 0.8235 - val_loss: 0.9128\n",
      "Epoch 9/50\n",
      "80065/80065 [==============================] - 1s 17us/step - loss: 0.7983 - val_loss: 0.9122\n",
      "Epoch 10/50\n",
      "80065/80065 [==============================] - 1s 14us/step - loss: 0.7723 - val_loss: 0.9068\n",
      "Epoch 11/50\n",
      "80065/80065 [==============================] - 1s 15us/step - loss: 0.7485 - val_loss: 0.9002\n",
      "Epoch 12/50\n",
      "80065/80065 [==============================] - 1s 15us/step - loss: 0.7319 - val_loss: 0.9019\n",
      "Epoch 13/50\n",
      "80065/80065 [==============================] - 1s 14us/step - loss: 0.7105 - val_loss: 0.8983\n",
      "Epoch 14/50\n",
      "80065/80065 [==============================] - 1s 14us/step - loss: 0.6978 - val_loss: 0.9018\n",
      "Epoch 15/50\n",
      "80065/80065 [==============================] - 1s 14us/step - loss: 0.6913 - val_loss: 0.9047\n",
      "Epoch 16/50\n",
      "80065/80065 [==============================] - 1s 16us/step - loss: 0.6807 - val_loss: 0.8986\n",
      "Epoch 17/50\n",
      "80065/80065 [==============================] - 2s 20us/step - loss: 0.6700 - val_loss: 0.9005\n",
      "Epoch 18/50\n",
      "80065/80065 [==============================] - 2s 19us/step - loss: 0.6614 - val_loss: 0.8997\n",
      "Epoch 19/50\n",
      "80065/80065 [==============================] - 1s 16us/step - loss: 0.6560 - val_loss: 0.8989\n",
      "Epoch 20/50\n",
      "80065/80065 [==============================] - 2s 19us/step - loss: 0.6495 - val_loss: 0.8975\n",
      "Epoch 21/50\n",
      "80065/80065 [==============================] - 2s 20us/step - loss: 0.6444 - val_loss: 0.8959\n",
      "Epoch 22/50\n",
      "80065/80065 [==============================] - 1s 16us/step - loss: 0.6406 - val_loss: 0.8919\n",
      "Epoch 23/50\n",
      "80065/80065 [==============================] - 1s 14us/step - loss: 0.6335 - val_loss: 0.8940\n",
      "Epoch 24/50\n",
      "80065/80065 [==============================] - 1s 16us/step - loss: 0.6341 - val_loss: 0.8938\n",
      "Epoch 25/50\n",
      "80065/80065 [==============================] - 1s 15us/step - loss: 0.6354 - val_loss: 0.8934\n",
      "Epoch 26/50\n",
      "80065/80065 [==============================] - 1s 16us/step - loss: 0.6300 - val_loss: 0.8903\n",
      "Epoch 27/50\n",
      "80065/80065 [==============================] - 1s 16us/step - loss: 0.6258 - val_loss: 0.8908\n",
      "Epoch 28/50\n",
      "80065/80065 [==============================] - 1s 15us/step - loss: 0.6205 - val_loss: 0.8920\n",
      "Epoch 29/50\n",
      "80065/80065 [==============================] - 1s 18us/step - loss: 0.6199 - val_loss: 0.8939\n",
      "Epoch 30/50\n",
      "80065/80065 [==============================] - 1s 14us/step - loss: 0.6180 - val_loss: 0.8900\n",
      "Epoch 31/50\n",
      "80065/80065 [==============================] - 1s 15us/step - loss: 0.6223 - val_loss: 0.8904\n",
      "Epoch 32/50\n",
      "80065/80065 [==============================] - 1s 16us/step - loss: 0.6187 - val_loss: 0.8895\n",
      "Epoch 33/50\n",
      "80065/80065 [==============================] - 1s 13us/step - loss: 0.6168 - val_loss: 0.8925\n",
      "Epoch 34/50\n",
      "80065/80065 [==============================] - 1s 16us/step - loss: 0.6154 - val_loss: 0.8893\n",
      "Epoch 35/50\n",
      "80065/80065 [==============================] - 1s 17us/step - loss: 0.6133 - val_loss: 0.8869\n",
      "Epoch 36/50\n",
      "80065/80065 [==============================] - 1s 16us/step - loss: 0.6159 - val_loss: 0.8886\n",
      "Epoch 37/50\n",
      "80065/80065 [==============================] - 1s 17us/step - loss: 0.6074 - val_loss: 0.8901\n",
      "Epoch 38/50\n",
      "80065/80065 [==============================] - 1s 17us/step - loss: 0.6094 - val_loss: 0.8881\n",
      "Epoch 39/50\n",
      "80065/80065 [==============================] - 1s 16us/step - loss: 0.6061 - val_loss: 0.8861\n",
      "Epoch 40/50\n",
      "80065/80065 [==============================] - 1s 15us/step - loss: 0.6089 - val_loss: 0.8883\n",
      "Epoch 41/50\n",
      "80065/80065 [==============================] - 1s 15us/step - loss: 0.6120 - val_loss: 0.8842\n",
      "Epoch 42/50\n",
      "80065/80065 [==============================] - 1s 15us/step - loss: 0.6057 - val_loss: 0.8848\n",
      "Epoch 43/50\n",
      "80065/80065 [==============================] - 1s 15us/step - loss: 0.6062 - val_loss: 0.8780\n",
      "Epoch 44/50\n",
      "80065/80065 [==============================] - 1s 16us/step - loss: 0.6043 - val_loss: 0.8820\n",
      "Epoch 45/50\n",
      "80065/80065 [==============================] - 1s 15us/step - loss: 0.6049 - val_loss: 0.8791\n",
      "Epoch 46/50\n",
      "80065/80065 [==============================] - 1s 15us/step - loss: 0.5984 - val_loss: 0.8780\n",
      "Epoch 47/50\n",
      "80065/80065 [==============================] - 1s 15us/step - loss: 0.5984 - val_loss: 0.8835\n",
      "Epoch 48/50\n",
      "80065/80065 [==============================] - 1s 16us/step - loss: 0.5981 - val_loss: 0.8819\n",
      "Epoch 49/50\n",
      "80065/80065 [==============================] - 1s 15us/step - loss: 0.6016 - val_loss: 0.8856\n",
      "Epoch 50/50\n",
      "80065/80065 [==============================] - 1s 15us/step - loss: 0.5956 - val_loss: 0.8823\n"
     ]
    }
   ],
   "source": [
    "History = nn_model.fit([train.user_id,train.movie_id],train.rating, batch_size=batch_size,\n",
    "                              epochs =epochs, validation_data = ([valid.user_id,valid.movie_id],valid.rating),\n",
    "                              verbose = 1)"
   ]
  }
 ],
 "metadata": {
  "accelerator": "GPU",
  "colab": {
   "collapsed_sections": [],
   "name": "Collaborative_Filtering_using_Matrix_Factorization(Embeddings).ipynb",
   "provenance": [],
   "version": "0.3.2"
  },
  "kernelspec": {
   "display_name": "Python 3",
   "language": "python",
   "name": "python3"
  },
  "language_info": {
   "codemirror_mode": {
    "name": "ipython",
    "version": 3
   },
   "file_extension": ".py",
   "mimetype": "text/x-python",
   "name": "python",
   "nbconvert_exporter": "python",
   "pygments_lexer": "ipython3",
   "version": "3.7.4"
  }
 },
 "nbformat": 4,
 "nbformat_minor": 4
}
